{
 "cells": [
  {
   "cell_type": "markdown",
   "id": "77b4f66e",
   "metadata": {},
   "source": [
    "# Database : \n",
    "\n",
    "- database is an organized collection of data stored and accessed electronically. \n",
    "- Small databases can be stored on a file system, while large databases are hosted on computer clusters or cloud storage.\n",
    "- The design of databases spans formal techniques and practical considerations, including data modeling, efficient data representation and storage, query languages, security and privacy of sensitive data, and distributed computing issues, including supporting concurrent access and fault tolerance.\n",
    "\n",
    "\n",
    "# DBMS : \n",
    "\n",
    "- A database management system (DBMS) is the software that interacts with end users, applications, and the database itself to capture and analyze the data.\n",
    "- The DBMS software additionally encompasses the core facilities provided to administer the database. The sum total of the database, the DBMS and the associated applications can be referred to as a database system.\n",
    "- Often the term \"database\" is also used loosely to refer to any of the DBMS, the database system or an application associated with the database.\n",
    "\n",
    "\n",
    "\n",
    "- Computer scientists may classify database management systems according to the database models that they support.\n",
    "- Relational databases became dominant in the 1980s. \n",
    "- These model data as rows and columns in a series of tables, and the vast majority use SQL for writing and querying data. \n",
    "- In the 2000s, non-relational databases became popular, collectively referred to as NoSQL, because they use different query languages.\n"
   ]
  },
  {
   "cell_type": "markdown",
   "id": "9af8aeb3",
   "metadata": {},
   "source": [
    "\n",
    "\n",
    "\n",
    "- a \"database\" refers to a set of related data and the way it is organized.\n",
    "- Access to this data is usually provided by a \"database management system\" (DBMS) consisting of an integrated set of computer software that allows users to interact with one or more databases and provides access to all of the data contained in the database (although restrictions may exist that limit access to particular data). \n",
    "- The DBMS provides various functions that allow entry, storage and retrieval of large quantities of information and provides ways to manage how that information is organized.\n",
    "\n",
    "\n",
    "- Because of the close relationship between them, the term \"database\" is often used casually to refer to both a database and the DBMS used to manipulate it.\n",
    "\n",
    "\n",
    "- Outside the world of professional information technology, the term database is often used to refer to any collection of related data (such as a spreadsheet or a card index) as size and usage requirements typically necessitate use of a database management system.\n",
    "\n",
    "\n",
    "- Existing DBMSs provide various functions that allow management of a database and its data which can be classified into four main functional groups:\n",
    "\n",
    "1. Data definition – Creation, modification and removal of definitions that define the organization of the data.\n",
    "\n",
    "2. Update – Insertion, modification, and deletion of the actual data.\n",
    "\n",
    "3. Retrieval – Providing information in a form directly usable or for further processing by other applications. The retrieved data may be made available in a form basically the same as it is stored in the database or in a new form obtained by altering or combining existing data from the database.\n",
    "\n",
    "4. Administration – Registering and monitoring users, enforcing data security, monitoring performance, maintaining data integrity, dealing with concurrency control, and recovering information that has been corrupted by some event such as an unexpected system failure."
   ]
  },
  {
   "cell_type": "markdown",
   "id": "28068e1b",
   "metadata": {},
   "source": [
    "- Examples of DBMS's include MySQL, PostgreSQL, Microsoft SQL Server, Oracle Database, and Microsoft Access."
   ]
  },
  {
   "cell_type": "markdown",
   "id": "73e70f2d",
   "metadata": {},
   "source": [
    "# Database languages : \n",
    "\n",
    "- Database languages are special-purpose languages, which allow one or more of the following tasks, sometimes distinguished as sublanguages:\n",
    "\n",
    "\n",
    "> Data control language (DCL) – controls access to data\n",
    "\n",
    "> Data definition language (DDL) – defines data types such as creating, altering, or dropping tables and the relationships among them\n",
    "\n",
    "> Data manipulation language (DML) – performs tasks such as inserting, updating, or deleting data occurrences\n",
    "\n",
    "> Data query language (DQL) – allows searching for information and computing derived information.\n",
    "Database languages are specific to a particular data model. \n",
    "\n",
    "- SQL combines the roles of data definition, data manipulation, and query in a single language. It was one of the first commercial languages for the relational model, although it departs in some respects from the relational model as described by Codd (for example, the rows and columns of a table can be ordered). \n",
    "- SQL became a standard of the American National Standards Institute (ANSI) in 1986, and of the International Organization for Standardization (ISO) in 1987. \n",
    "- The standards have been regularly enhanced since and are supported (with varying degrees of conformance) by all mainstream commercial relational DBMSs.\n",
    "\n",
    "- OQL is an object model language standard (from the Object Data Management Group). It has influenced the design of some of the newer query languages like JDOQL and EJB QL.\n",
    "\n",
    "- XQuery is a standard XML query language implemented by XML database systems such as MarkLogic and eXist, by relational databases with XML capability such as Oracle and Db2, and also by in-memory XML processors such as Saxon.\n",
    "\n",
    "- SQL/XML combines XQuery with SQL.\n",
    "\n",
    "- A database language may also incorporate features like:\n",
    "\n",
    "    - DBMS-specific configuration and storage engine management\n",
    "    - Computations to modify query results, like counting, summing, averaging, sorting, grouping, and cross-referencing\n",
    "    - Constraint enforcement (e.g. in an automotive database, only allowing one engine type per car)\n",
    "    - Application programming interface version of the query language, for programmer convenience"
   ]
  },
  {
   "cell_type": "markdown",
   "id": "cb097215",
   "metadata": {},
   "source": [
    "# Models : \n",
    "\n",
    "- A database model is a type of data model that determines the logical structure of a database and fundamentally determines in which manner data can be stored, organized, and manipulated.\n",
    "- The most popular example of a database model is the relational model (or the SQL approximation of relational), which uses a table-based format.\n",
    "\n",
    "- Common logical data models for databases include:\n",
    "\n",
    "    - Navigational databases\n",
    "        - Hierarchical database model\n",
    "        - Network model\n",
    "        - Graph database\n",
    "    - Relational model\n",
    "    - Entity–relationship model\n",
    "        - Enhanced entity–relationship model\n",
    "    - Object model\n",
    "    - Document model\n",
    "    - Entity–attribute–value model\n",
    "    - Star schema\n",
    "\n",
    "An object–relational database combines the two related structures.\n",
    "\n",
    "Physical data models include:\n",
    "\n",
    "    Inverted index\n",
    "    Flat file\n",
    "\n",
    "Other models include:\n",
    "\n",
    "    Multidimensional model\n",
    "    Array model\n",
    "    Multivalue model\n",
    "\n",
    "Specialized models are optimized for particular types of data:\n",
    "\n",
    "    XML database\n",
    "    Semantic model\n",
    "    Content store\n",
    "    Event store\n",
    "    Time series model"
   ]
  },
  {
   "cell_type": "code",
   "execution_count": null,
   "id": "a314b41b",
   "metadata": {},
   "outputs": [],
   "source": []
  },
  {
   "cell_type": "code",
   "execution_count": null,
   "id": "94d95cc3",
   "metadata": {},
   "outputs": [],
   "source": []
  },
  {
   "cell_type": "markdown",
   "id": "c84eba8b",
   "metadata": {},
   "source": [
    "# Entity - Relationship Model : \n",
    "\n",
    "-  An entity–relationship model (or ER model) describes interrelated things of interest in a specific domain of knowledge.\n",
    "- A basic ER model is composed of entity types (which classify the things of interest) and specifies relationships that can exist between entities (instances of those entity types).\n",
    "\n",
    "- an ER model is commonly formed to represent things a business needs to remember in order to perform business processes.\n",
    "- Consequently, the ER model becomes an abstract data model, that defines a data or information structure which can be implemented in a database, typically a relational database.\n",
    "\n",
    "\n"
   ]
  },
  {
   "cell_type": "code",
   "execution_count": null,
   "id": "e1930b67",
   "metadata": {},
   "outputs": [],
   "source": []
  },
  {
   "cell_type": "markdown",
   "id": "247e1b41",
   "metadata": {},
   "source": [
    "# Star schema : \n",
    "\n",
    "- the star schema is the simplest style of data mart schema and is the approach most widely used to develop data warehouses and dimensional data marts.\n",
    "\n",
    "- The star schema consists of `one or more fact tables` referencing `any number of dimension tables`. - The star schema is an important special case of the snowflake schema, and is more effective for handling simpler queries.\n",
    "\n",
    "- The star schema gets its name from the physical model's resemblance to a star shape with a fact table at its center and the dimension tables surrounding it representing the star's points."
   ]
  },
  {
   "cell_type": "code",
   "execution_count": null,
   "id": "043224d5",
   "metadata": {},
   "outputs": [],
   "source": []
  },
  {
   "cell_type": "markdown",
   "id": "443c0766",
   "metadata": {},
   "source": [
    "## Fact tables : \n",
    "\n",
    "- Fact tables record measurements or metrics for a specific event. \n",
    "- Fact tables generally consist of numeric values, and foreign keys to dimensional data where descriptive information is kept.\n",
    "- Fact tables are designed to a low level of uniform detail (referred to as \"granularity\" or \"grain\"), meaning facts can record events at a very atomic level.\n",
    "- This can result in the accumulation of a large number of records in a fact table over time. Fact tables are defined as one of three types:\n",
    "\n",
    "- Transaction fact tables record facts about a specific event (e.g., sales events)\n",
    "- Snapshot fact tables record facts at a given point in time (e.g., account details at month end)\n",
    "- Accumulating snapshot tables record aggregate facts at a given point in time (e.g., total month-to-date sales for a product)\n",
    "- Fact tables are generally assigned a surrogate key to ensure each row can be uniquely identified. This key is a simple primary key.\n",
    "\n",
    "## Dimension tables : \n",
    "\n",
    "- Dimension tables usually have a relatively small number of records compared to fact tables, but each record may have a very large number of attributes to describe the fact data.\n",
    "- Dimensions can define a wide variety of characteristics, but some of the most common attributes defined by dimension tables include:\n",
    "\n",
    "    - Time dimension tables describe time at the lowest level of time granularity for which events are recorded in the star schema\n",
    "    - Geography dimension tables describe location data, such as country, state, or city\n",
    "    - Product dimension tables describe products\n",
    "    - Employee dimension tables describe employees, such as sales people\n",
    "    - Range dimension tables describe ranges of time, dollar values or other measurable quantities to simplify reporting\n",
    "- Dimension tables are generally assigned a surrogate primary key, usually a single-column integer data type, mapped to the combination of dimension attributes that form the natural key."
   ]
  },
  {
   "cell_type": "code",
   "execution_count": null,
   "id": "07ff3ecf",
   "metadata": {},
   "outputs": [],
   "source": []
  },
  {
   "cell_type": "code",
   "execution_count": null,
   "id": "deecd01d",
   "metadata": {},
   "outputs": [],
   "source": []
  },
  {
   "cell_type": "markdown",
   "id": "8669fc6e",
   "metadata": {},
   "source": [
    "### Primary Key : \n",
    "\n",
    "- In the relational model of databases, a primary key is a specific choice of a minimal set of attributes (columns) that `uniquely specify a tuple (row) in a relation (table)`.\n",
    "\n",
    "- Informally, a primary key is \"which attributes identify a record,\" and in simple cases constitute a single attribute: a unique ID. \n",
    "- More formally, a primary key is a choice of candidate key (a minimal superkey); any other candidate key is an alternate key.\n",
    "\n",
    "\n",
    "- A primary key may consist of real-world observables, in which case it is called a natural key, while an attribute created to function as a key and not used for identification outside the database is called a surrogate key. For example, for a database of people (of a given nationality), time and location of birth could be a natural key.\n",
    "- National identification number is another example of an attribute that may be used as a natural key."
   ]
  },
  {
   "cell_type": "markdown",
   "id": "1f36ef49",
   "metadata": {},
   "source": [
    "### Defining primary keys in SQL : \n",
    "\n",
    "    ALTER TABLE <table identifier> \n",
    "        ADD [ CONSTRAINT <constraint identifier> ] \n",
    "        PRIMARY KEY ( <column name> [ {, <column name> }... ] )\n",
    "        \n",
    "        \n",
    "     CREATE TABLE table_name (\n",
    "       id_col  INT  PRIMARY KEY,\n",
    "       col2    CHARACTER VARYING(20),\n",
    "       ...\n",
    "    )       "
   ]
  },
  {
   "cell_type": "markdown",
   "id": "710db719",
   "metadata": {},
   "source": [
    "### Foreign Key : \n",
    "\n",
    "- A foreign key is a set of attributes in a table that refers to the primary key of another table.\n",
    "- The foreign key links these two tables. Another way to put it: In the context of relational databases, a foreign key is a set of attributes subject to a certain kind of inclusion dependency constraints, specifically a constraint that the tuples consisting of the foreign key attributes in one relation, R, must also exist in some other (not necessarily distinct) relation, S, and furthermore that those attributes must also be a candidate key in S.\n",
    "\n",
    "        CREATE TABLE child_table (\n",
    "          col1 INTEGER PRIMARY KEY,\n",
    "          col2 CHARACTER VARYING(20),\n",
    "          col3 INTEGER,\n",
    "          col4 INTEGER,\n",
    "          FOREIGN KEY(col3, col4) REFERENCES parent_table(col1, col2) ON DELETE CASCADE\n",
    "        )\n",
    "\n",
    "    \n",
    "        CREATE TABLE child_table (\n",
    "      col1 INTEGER PRIMARY KEY,\n",
    "      col2 CHARACTER VARYING(20),\n",
    "      col3 INTEGER,\n",
    "      col4 INTEGER REFERENCES parent_table(col1) ON DELETE CASCADE\n",
    "        )"
   ]
  },
  {
   "cell_type": "code",
   "execution_count": null,
   "id": "35299379",
   "metadata": {},
   "outputs": [],
   "source": []
  },
  {
   "cell_type": "code",
   "execution_count": null,
   "id": "8c10d84d",
   "metadata": {},
   "outputs": [],
   "source": []
  },
  {
   "cell_type": "code",
   "execution_count": null,
   "id": "eb141c6f",
   "metadata": {},
   "outputs": [],
   "source": []
  },
  {
   "cell_type": "code",
   "execution_count": null,
   "id": "6e5369a3",
   "metadata": {},
   "outputs": [],
   "source": []
  },
  {
   "cell_type": "code",
   "execution_count": null,
   "id": "5ba69a6e",
   "metadata": {},
   "outputs": [],
   "source": []
  }
 ],
 "metadata": {
  "kernelspec": {
   "display_name": "Python 3 (ipykernel)",
   "language": "python",
   "name": "python3"
  },
  "language_info": {
   "codemirror_mode": {
    "name": "ipython",
    "version": 3
   },
   "file_extension": ".py",
   "mimetype": "text/x-python",
   "name": "python",
   "nbconvert_exporter": "python",
   "pygments_lexer": "ipython3",
   "version": "3.9.7"
  }
 },
 "nbformat": 4,
 "nbformat_minor": 5
}
